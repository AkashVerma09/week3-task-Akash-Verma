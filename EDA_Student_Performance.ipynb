{
 "cells": [
  {
   "cell_type": "markdown",
   "id": "c0430c82",
   "metadata": {},
   "source": [
    "# Week 3 – Exploratory Data Analysis (EDA)\n",
    "Dataset: **Student Performance (messy custom CSV)**\n",
    "\n",
    "This notebook demonstrates data **loading**, **cleaning**, and **EDA** with visualizations.\n",
    "It also shows basic **NumPy**-based stats like variance and correlation.\n"
   ]
  },
  {
   "cell_type": "code",
   "execution_count": null,
   "id": "0b78e8c3",
   "metadata": {},
   "outputs": [],
   "source": [
    "\n",
    "# Imports\n",
    "import pandas as pd\n",
    "import numpy as np\n",
    "import matplotlib.pyplot as plt\n",
    "from pathlib import Path\n",
    "\n",
    "# Paths\n",
    "BASE = Path(\".\" )\n",
    "DATA = BASE / \"data\" / \"students_raw.csv\"\n",
    "PLOTS = BASE / \"plots\"\n",
    "PLOTS.mkdir(parents=True, exist_ok=True)\n",
    "\n",
    "print(\"Data path:\", DATA.resolve())\n"
   ]
  },
  {
   "cell_type": "code",
   "execution_count": null,
   "id": "fab0acfe",
   "metadata": {},
   "outputs": [],
   "source": [
    "\n",
    "# Load dataset\n",
    "df = pd.read_csv(DATA)\n",
    "print(\"Shape:\", df.shape)\n",
    "df.head()\n"
   ]
  },
  {
   "cell_type": "code",
   "execution_count": null,
   "id": "777d7a48",
   "metadata": {},
   "outputs": [],
   "source": [
    "\n",
    "# Basic info\n",
    "print(\"\\nColumns & dtypes:\\n\", df.dtypes)\n",
    "print(\"\\nMissing values per column:\\n\", df.isna().sum())\n"
   ]
  },
  {
   "cell_type": "markdown",
   "id": "62338d32",
   "metadata": {},
   "source": [
    "## Cleaning\n",
    "- Standardize categorical values (Gender, City, Passed)\n",
    "- Remove duplicates\n",
    "- Fill missing values (median for numeric, mode for categorical)\n",
    "- Derive `AverageScore` and fix missing `Passed`"
   ]
  },
  {
   "cell_type": "code",
   "execution_count": null,
   "id": "2b11cb43",
   "metadata": {},
   "outputs": [],
   "source": [
    "\n",
    "def standardize_categories(df):\n",
    "    df = df.copy()\n",
    "    def std_str(x):\n",
    "        if pd.isna(x): return x\n",
    "        return str(x).strip()\n",
    "\n",
    "    if \"Gender\" in df.columns:\n",
    "        df[\"Gender\"] = df[\"Gender\"].map(std_str)\n",
    "        gender_map = {\"M\":\"Male\",\"MALE\":\"Male\",\"MALE \":\"Male\",\"male\":\"Male\",\"Male\":\"Male\",\n",
    "                      \"F\":\"Female\",\"female\":\"Female\",\" Female\":\"Female\",\"Female\":\"Female\"}\n",
    "        df[\"Gender\"] = df[\"Gender\"].map(lambda x: gender_map.get(x, x))\n",
    "\n",
    "    if \"City\" in df.columns:\n",
    "        df[\"City\"] = df[\"City\"].map(std_str).str.title().replace({\"Bangalore\":\"Bengaluru\"})\n",
    "\n",
    "    if \"Passed\" in df.columns:\n",
    "        df[\"Passed\"] = df[\"Passed\"].map(std_str).str.title()\n",
    "        passed_map = {\"Y\":\"Yes\",\"Yes\":\"Yes\",\"No\":\"No\",\"N\":\"No\"}\n",
    "        df[\"Passed\"] = df[\"Passed\"].map(lambda x: passed_map.get(x, x))\n",
    "    return df\n",
    "\n",
    "def fill_missing(df):\n",
    "    df = df.copy()\n",
    "    num_cols = df.select_dtypes(include=[np.number]).columns.tolist()\n",
    "    cat_cols = [c for c in df.columns if c not in num_cols]\n",
    "\n",
    "    for c in num_cols:\n",
    "        if df[c].isna().any():\n",
    "            df[c] = df[c].fillna(df[c].median())\n",
    "\n",
    "    for c in cat_cols:\n",
    "        if df[c].isna().any():\n",
    "            mode_val = df[c].mode(dropna=True)\n",
    "            if len(mode_val) > 0:\n",
    "                df[c] = df[c].fillna(mode_val.iloc[0])\n",
    "            else:\n",
    "                df[c] = df[c].fillna(\"Unknown\")\n",
    "    return df\n",
    "\n",
    "def derive_features(df):\n",
    "    df = df.copy()\n",
    "    sco_cols = [c for c in [\"MathScore\",\"ReadingScore\",\"WritingScore\"] if c in df.columns]\n",
    "    if sco_cols:\n",
    "        df[\"AverageScore\"] = df[sco_cols].mean(axis=1)\n",
    "    if \"Passed\" in df.columns and df[\"Passed\"].isna().any():\n",
    "        df.loc[df[\"Passed\"].isna(), \"Passed\"] = np.where(df[\"AverageScore\"] >= 40, \"Yes\", \"No\")\n",
    "    return df\n",
    "\n",
    "# Apply cleaning\n",
    "df_clean = (df\n",
    "            .drop_duplicates()\n",
    "            .pipe(standardize_categories)\n",
    "            .pipe(fill_missing)\n",
    "            .pipe(derive_features)\n",
    "           )\n",
    "\n",
    "print(\"Cleaned shape:\", df_clean.shape)\n",
    "df_clean.head()\n"
   ]
  },
  {
   "cell_type": "code",
   "execution_count": null,
   "id": "d4b3e3a9",
   "metadata": {},
   "outputs": [],
   "source": [
    "\n",
    "# Save cleaned dataset\n",
    "df_clean.to_csv(\"data/students_clean.csv\", index=False)\n",
    "print(\"Saved to data/students_clean.csv\")\n"
   ]
  },
  {
   "cell_type": "markdown",
   "id": "8159acbd",
   "metadata": {},
   "source": [
    "## Exploratory Analysis"
   ]
  },
  {
   "cell_type": "code",
   "execution_count": null,
   "id": "7b0a7ea8",
   "metadata": {},
   "outputs": [],
   "source": [
    "\n",
    "# Summary statistics for numerical columns\n",
    "df_clean.describe()\n"
   ]
  },
  {
   "cell_type": "code",
   "execution_count": null,
   "id": "8c1eb0da",
   "metadata": {},
   "outputs": [],
   "source": [
    "\n",
    "# Most common values for categorical columns\n",
    "num_cols = df_clean.select_dtypes(include=[np.number]).columns.tolist()\n",
    "cat_cols = [c for c in df_clean.columns if c not in num_cols]\n",
    "\n",
    "for c in cat_cols:\n",
    "    print(f\"\\nColumn: {c}\")\n",
    "    print(df_clean[c].value_counts().head(5))\n"
   ]
  },
  {
   "cell_type": "code",
   "execution_count": null,
   "id": "fbb8a234",
   "metadata": {},
   "outputs": [],
   "source": [
    "\n",
    "# NumPy calculations: variance and correlation\n",
    "print(\"Variance (ddof=1):\")\n",
    "print(df_clean.select_dtypes(include=[np.number]).var(ddof=1))\n",
    "\n",
    "print(\"\\nCorrelation matrix:\")\n",
    "print(df_clean.select_dtypes(include=[np.number]).corr())\n"
   ]
  },
  {
   "cell_type": "markdown",
   "id": "efb8da0b",
   "metadata": {},
   "source": [
    "## Visualizations"
   ]
  },
  {
   "cell_type": "code",
   "execution_count": null,
   "id": "295eda97",
   "metadata": {},
   "outputs": [],
   "source": [
    "\n",
    "# Histogram of Age\n",
    "plt.figure()\n",
    "df_clean[\"Age\"].plot(kind=\"hist\", bins=10, edgecolor=\"black\")\n",
    "plt.title(\"Histogram of Age\")\n",
    "plt.xlabel(\"Age\"); plt.ylabel(\"Frequency\")\n",
    "plt.savefig(\"plots/hist_age.png\", bbox_inches=\"tight\")\n",
    "plt.show()\n"
   ]
  },
  {
   "cell_type": "code",
   "execution_count": null,
   "id": "72810f8b",
   "metadata": {},
   "outputs": [],
   "source": [
    "\n",
    "# Bar chart of Gender\n",
    "plt.figure()\n",
    "df_clean[\"Gender\"].value_counts().plot(kind=\"bar\")\n",
    "plt.title(\"Gender Distribution\")\n",
    "plt.xlabel(\"Gender\"); plt.ylabel(\"Count\")\n",
    "plt.savefig(\"plots/bar_gender.png\", bbox_inches=\"tight\")\n",
    "plt.show()\n"
   ]
  },
  {
   "cell_type": "code",
   "execution_count": null,
   "id": "53850f90",
   "metadata": {},
   "outputs": [],
   "source": [
    "\n",
    "# Scatter: StudyHours vs AverageScore\n",
    "plt.figure()\n",
    "plt.scatter(df_clean[\"StudyHours\"], df_clean[\"AverageScore\"])\n",
    "plt.title(\"Study Hours vs Average Score\")\n",
    "plt.xlabel(\"Study Hours\"); plt.ylabel(\"Average Score\")\n",
    "plt.savefig(\"plots/scatter_study_vs_avg.png\", bbox_inches=\"tight\")\n",
    "plt.show()\n"
   ]
  }
 ],
 "metadata": {},
 "nbformat": 4,
 "nbformat_minor": 5
}
